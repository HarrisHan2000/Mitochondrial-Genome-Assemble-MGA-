{
 "cells": [
  {
   "cell_type": "code",
   "execution_count": 22,
   "metadata": {},
   "outputs": [],
   "source": [
    "# Declare a contig class with repaeats on both sides and its own name\n",
    "# Also a reverse method\n",
    "class Contig:\n",
    "    def __init__(self, name, left, right):\n",
    "        self.left = left\n",
    "        self.right = right\n",
    "        self.name = name\n",
    "        self.reverse_state = False\n",
    "    def reverse(self):\n",
    "        rightstore = self.right\n",
    "        self.right = self.left\n",
    "        self.left = rightstore\n",
    "        self.right = -self.right\n",
    "        self.left = -self.left\n",
    "        self.reverse_state = True"
   ]
  },
  {
   "cell_type": "code",
   "execution_count": 23,
   "metadata": {},
   "outputs": [],
   "source": [
    "# Instantiate contigs\n",
    "contig2 = Contig(\"contig2\",9,8)\n",
    "contig3 = Contig(\"contig3\",4,3)\n",
    "contig4 = Contig(\"contig4\",3,10)\n",
    "contig5 = Contig(\"contig5\",17,3)\n",
    "contig6 = Contig(\"contig6\",12,14)\n",
    "contig7 = Contig(\"contig7\",-4,10)\n",
    "contig8 = Contig(\"contig8\",3,9)\n",
    "contig9 = Contig(\"contig9\",8,9)\n",
    "contig10 = Contig(\"contig10\",-4,9)\n",
    "contig11 = Contig(\"contig11\",7,10)\n",
    "contig12 = Contig(\"contig12\",8,-7)\n",
    "contig13 = Contig(\"contig13\",10,-4)\n",
    "contig14 = Contig(\"contig14\",-7,9)\n",
    "contig15_1 = Contig(\"contig15_1\",9,-10)\n",
    "contig15_2 = Contig(\"contig15_2\",9,-10)"
   ]
  },
  {
   "cell_type": "code",
   "execution_count": 24,
   "metadata": {},
   "outputs": [],
   "source": [
    "# Database Construction\n",
    "database = [contig2,contig3,contig4,contig5,contig6,contig7,contig8,contig9,contig10,\n",
    "                contig11,contig12,contig13,contig14,contig15_1,contig15_2]\n",
    "database_copy = database.copy()"
   ]
  },
  {
   "cell_type": "code",
   "execution_count": 25,
   "metadata": {},
   "outputs": [
    {
     "data": {
      "text/plain": [
       "<__main__.Contig at 0x22a88950040>"
      ]
     },
     "execution_count": 25,
     "metadata": {},
     "output_type": "execute_result"
    }
   ],
   "source": [
    "# Let's start with contig7\n",
    "genome = [contig7]\n",
    "database.pop(5)"
   ]
  },
  {
   "cell_type": "code",
   "execution_count": 26,
   "metadata": {},
   "outputs": [
    {
     "name": "stdout",
     "output_type": "stream",
     "text": [
      "contig2\n",
      "contig3\n",
      "contig4\n",
      "contig5\n",
      "contig6\n",
      "contig8\n",
      "contig9\n",
      "contig10\n",
      "contig11\n",
      "contig12\n",
      "contig13\n",
      "contig14\n",
      "contig15_1\n",
      "contig15_2\n"
     ]
    }
   ],
   "source": [
    "# Define a simple function to get names\n",
    "def getcircle(database):\n",
    "    for i in database:\n",
    "        print(i.name)\n",
    "\n",
    "getcircle(database)"
   ]
  },
  {
   "cell_type": "code",
   "execution_count": 28,
   "metadata": {
    "scrolled": false
   },
   "outputs": [
    {
     "name": "stdout",
     "output_type": "stream",
     "text": [
      "Welcome!\n",
      "\n",
      "We have a new candicate (reversed): contig7\n",
      "Check your candicates (reversed)\n",
      "\n",
      "contig7\n",
      "\n",
      "\n",
      "We have a new candicate (reversed): contig10\n",
      "Check your candicates (reversed)\n",
      "\n",
      "contig7\n",
      "contig10\n",
      "\n",
      "\n",
      "Now you've got a circle, go check in the next cell!\n",
      "Select One(by typing in sequence number which starts with 0):\n",
      "\n",
      "1\n"
     ]
    }
   ],
   "source": [
    "# Run this cell to launch an epoch\n",
    "# Need a small trick to restart the circle\n",
    "restart_it = True\n",
    "candicate = []\n",
    "print(\"Welcome!\\n\")\n",
    "# Search possible contigs(forward)\n",
    "while (restart_it):\n",
    "    restart_it = False\n",
    "    for i in database_copy:\n",
    "        if (i.left == genome[len(genome)-1].right): \n",
    "            candicate.append(i)\n",
    "            print('We have a new candicate: '+candicate[len(candicate)-1].name)\n",
    "            database_copy.remove(i)\n",
    "            #print('\\n')\n",
    "            #print('Take a look at the database:')\n",
    "            #getcircle(database_copy)\n",
    "            print(\"Check your candicates\\n\")\n",
    "            getcircle(candicate)\n",
    "            print('\\n')\n",
    "            restart_it = True\n",
    "restart_it = True\n",
    "# Reverse all the contigs and search\n",
    "for i in database_copy:\n",
    "    i.reverse()\n",
    "while (restart_it):\n",
    "    restart_it = False\n",
    "    for i in database_copy:\n",
    "        if (i.left == genome[len(genome)-1].right): \n",
    "            candicate.append(i)\n",
    "            print('We have a new candicate (reversed): '+candicate[len(candicate)-1].name)\n",
    "            database_copy.remove(i)\n",
    "            #print('\\n')\n",
    "            #print('Take a look at the database:')\n",
    "            #getcircle(database_copy)\n",
    "            print(\"Check your candicates (reversed)\\n\")\n",
    "            getcircle(candicate)\n",
    "            print('\\n')\n",
    "            restart_it = True\n",
    "# By here all the contigs in the database are reversed\n",
    "# Contigs in the candicates are in their form to fit\n",
    "if(genome[len(genome)-1].right == genome[0].left):\n",
    "    print(\"Now you've got a circle, go check in the next cell!\")\n",
    "if(len(candicate)==0):\n",
    "    print(\"Oops,no candicates!\")\n",
    "else:\n",
    "    print(\"Select One(by typing in sequence number which starts with 0):\\n\")\n",
    "    '''for i in range(len(candicate)-1):\n",
    "        print(str(i)+candicate[i].name)'''\n",
    "    select_number = int(input())\n",
    "    genome.append(candicate[select_number])\n",
    "    candicate.remove(candicate[select_number])\n",
    "for i in candicate:\n",
    "    if i.reverse_state == True:\n",
    "        i.reverse()\n",
    "        i.reverse_state = False\n",
    "        database_copy.append(i)\n",
    "        candicate.remove(i)\n",
    "    else:\n",
    "        database_copy.append(i)\n",
    "        candicate.remove(i)"
   ]
  },
  {
   "cell_type": "code",
   "execution_count": 1,
   "metadata": {},
   "outputs": [
    {
     "ename": "NameError",
     "evalue": "name 'getcircle' is not defined",
     "output_type": "error",
     "traceback": [
      "\u001b[1;31m---------------------------------------------------------------------------\u001b[0m",
      "\u001b[1;31mNameError\u001b[0m                                 Traceback (most recent call last)",
      "\u001b[1;32m<ipython-input-1-647a62162620>\u001b[0m in \u001b[0;36m<module>\u001b[1;34m\u001b[0m\n\u001b[1;32m----> 1\u001b[1;33m \u001b[0mgetcircle\u001b[0m\u001b[1;33m(\u001b[0m\u001b[0mgenome\u001b[0m\u001b[1;33m)\u001b[0m\u001b[1;33m\u001b[0m\u001b[1;33m\u001b[0m\u001b[0m\n\u001b[0m",
      "\u001b[1;31mNameError\u001b[0m: name 'getcircle' is not defined"
     ]
    }
   ],
   "source": [
    "getcircle(genome)"
   ]
  },
  {
   "cell_type": "code",
   "execution_count": 8,
   "metadata": {},
   "outputs": [
    {
     "name": "stdout",
     "output_type": "stream",
     "text": [
      "1\n"
     ]
    }
   ],
   "source": []
  },
  {
   "cell_type": "code",
   "execution_count": null,
   "metadata": {},
   "outputs": [],
   "source": []
  }
 ],
 "metadata": {
  "kernelspec": {
   "display_name": "Python 3",
   "language": "python",
   "name": "python3"
  },
  "language_info": {
   "codemirror_mode": {
    "name": "ipython",
    "version": 3
   },
   "file_extension": ".py",
   "mimetype": "text/x-python",
   "name": "python",
   "nbconvert_exporter": "python",
   "pygments_lexer": "ipython3",
   "version": "3.8.3"
  }
 },
 "nbformat": 4,
 "nbformat_minor": 4
}
